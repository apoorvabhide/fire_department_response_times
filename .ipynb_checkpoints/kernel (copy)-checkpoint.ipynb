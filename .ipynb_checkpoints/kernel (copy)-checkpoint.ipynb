{
 "cells": [
  {
   "cell_type": "code",
   "execution_count": null,
   "metadata": {
    "_execution_state": "idle",
    "_uuid": "50ea6de1e89ad9a3f392f8c03a53f94cf923c48d"
   },
   "outputs": [],
   "source": [
    "## Importing packages\n",
    "\n",
    "# This R environment comes with all of CRAN and many other helpful packages preinstalled.\n",
    "# You can see which packages are installed by checking out the kaggle/rstats docker image: \n",
    "# https://github.com/kaggle/docker-rstats\n",
    "\n",
    "library(tidyverse) # metapackage with lots of helpful functions\n",
    "\n",
    "## Running code\n",
    "\n",
    "# In a notebook, you can run a single code cell by clicking in the cell and then hitting \n",
    "# the blue arrow to the left, or by clicking in the cell and pressing Shift+Enter. In a script, \n",
    "# you can run code by highlighting the code you want to run and then clicking the blue arrow\n",
    "# at the bottom of this window.\n",
    "\n",
    "## Reading in files\n",
    "\n",
    "# You can access files from datasets you've added to this kernel in the \"../input/\" directory.\n",
    "# You can see the files added to this kernel by running the code below. \n",
    "\n",
    "list.files(path = \"../input/historical-hourly-weather-data/\")\n",
    "list.files(path = \"../input/hourly-energy-consumption/\")\n",
    "\n",
    "## Saving data\n",
    "\n",
    "# If you save any files or images, these will be put in the \"output\" directory. You \n",
    "# can see the output directory by committing and running your kernel (using the \n",
    "# Commit & Run button) and then checking out the compiled version of your kernel."
   ]
  },
  {
   "cell_type": "code",
   "execution_count": null,
   "metadata": {
    "_uuid": "951f62999c293148e0ca7618a584452956e08538"
   },
   "outputs": [],
   "source": [
    "duq <- read.csv('../input/hourly-energy-consumption//DUQ_hourly.csv', stringsAsFactors = F)\n",
    "head(duq,10)"
   ]
  },
  {
   "cell_type": "code",
   "execution_count": null,
   "metadata": {
    "_uuid": "68a8fc7d3b02fca76b45d0e5664fa7224d1c792e"
   },
   "outputs": [],
   "source": [
    "duq$Datetime <- as.POSIXct(duq$Datetime, '%Y-%m-%d %H:%M:%S', tz = \"EDT\")\n",
    "max(duq$Datetime)\n",
    "min(duq$Datetime)\n",
    "library(lubridate)\n",
    "is.POSIXct(duq$Datetime)"
   ]
  },
  {
   "cell_type": "code",
   "execution_count": null,
   "metadata": {
    "_uuid": "a28e90e5da4367bfccddc9fa0301137c34c85334"
   },
   "outputs": [],
   "source": [
    "weather_data <- read.csv('../input/historical-hourly-weather-data//temperature.csv', stringsAsFactors = F)\n",
    "head(weather_data, 10)"
   ]
  },
  {
   "cell_type": "code",
   "execution_count": null,
   "metadata": {
    "_uuid": "768ad27cf6b590ecd7a66b7b8ccf7c4899dcddae"
   },
   "outputs": [],
   "source": [
    "pitt <- subset(weather_data, select = c('datetime','Pittsburgh'))"
   ]
  },
  {
   "cell_type": "code",
   "execution_count": null,
   "metadata": {
    "_uuid": "e6daa441b132476423be9f45b9da620848139bed"
   },
   "outputs": [],
   "source": [
    "head(pitt,10)"
   ]
  },
  {
   "cell_type": "code",
   "execution_count": null,
   "metadata": {
    "_uuid": "6d9e67e970c73c9ce473e66b8d45f818307128a2"
   },
   "outputs": [],
   "source": [
    "pitt$datetime <- as.POSIXct(pitt$datetime, '%Y-%m-%d %H:%M:%S', tz = \"EDT\")"
   ]
  },
  {
   "cell_type": "code",
   "execution_count": null,
   "metadata": {
    "_uuid": "b29543b3e165335e4d7904c2e5ce879e778517e2"
   },
   "outputs": [],
   "source": [
    "max(pitt$datetime)\n",
    "min(pitt$datetime)\n",
    "library(lubridate)\n",
    "is.POSIXct(pitt$datetime)\n",
    "is.POSIXct(duq$Datetime)"
   ]
  },
  {
   "cell_type": "code",
   "execution_count": null,
   "metadata": {
    "_uuid": "be39830025257619024d39281a363da9179114be"
   },
   "outputs": [],
   "source": [
    "library(zoo)\n",
    "pitt[is.na(pitt$Pittsburgh),]\n",
    "pitt$Pittsburgh[pitt$datetime == '2012-10-01 12:00:00'] <- pitt$Pittsburgh[pitt$datetime == '2012-10-01 13:00:00']\n",
    "pitt$Pittsburgh <- na.locf(pitt$Pittsburgh)\n",
    "head(pitt, 10)"
   ]
  },
  {
   "cell_type": "code",
   "execution_count": null,
   "metadata": {
    "_uuid": "9d5132280c9841689c132ac3b9b06afd34cd4baa"
   },
   "outputs": [],
   "source": [
    "#Subset both data frames for the required time frame - 02-01-2012 to 29-11-2017\n",
    "duq <- duq[duq$Datetime >= '2012-10-01 00:00:00' & duq$Datetime <= '2017-09-30 00:00:00',]\n",
    "pitt <- pitt[pitt$datetime >= '2012-10-01 00:00:00' & pitt$datetime <= '2017-09-30 00:00:00',]"
   ]
  },
  {
   "cell_type": "code",
   "execution_count": null,
   "metadata": {
    "_uuid": "b969b3b11f233e235cbcb6ccb048c352f11407f4"
   },
   "outputs": [],
   "source": [
    "#Visualise the time series\n",
    "library(ggplot2)\n",
    "ggplot(data = duq, aes(x = Datetime, y = DUQ_MW))+\n",
    "      geom_line(color = \"#00AFBB\") + ggtitle('Duquesne Power - Consumption, 2012-2017')+\n",
    "    xlab('Date') + ylab('Consumption in MW')"
   ]
  },
  {
   "cell_type": "code",
   "execution_count": null,
   "metadata": {
    "_uuid": "e2e60259b1738c99cbbc860b9d5778be1a196c2d"
   },
   "outputs": [],
   "source": [
    "#Plot only for a year to see the seasonality\n",
    "ggplot(data = duq[duq$Datetime >= '2014-01-01' & duq$Datetime <= '2014-12-31',], aes(x = Datetime, y = DUQ_MW))+\n",
    "      geom_line(color = \"#00AFBB\") + ggtitle('Duquesne Power - Consumption, 2014')+\n",
    "    xlab('Date') + ylab('Consumption in MW')"
   ]
  },
  {
   "cell_type": "code",
   "execution_count": null,
   "metadata": {
    "_uuid": "8aac1aaea17c2f8dda4bd891f6bd95a629b1d2e9"
   },
   "outputs": [],
   "source": [
    "ggplot(data = pitt[pitt$datetime >= '2014-01-01' & pitt$datetime <= '2014-12-31',], aes(x = datetime, y = Pittsburgh))+\n",
    "      geom_line(color = \"#00AFBB\") + ggtitle('Temperature in Pittsburgh, 2014')+\n",
    "    xlab('Date') + ylab('Temperature in Kelvin')"
   ]
  },
  {
   "cell_type": "code",
   "execution_count": null,
   "metadata": {
    "_uuid": "8d01cd67874661e5bf4c0e35725962cf92c8ab2e"
   },
   "outputs": [],
   "source": [
    "#First, divide data into train and test\n",
    "duq_train <- duq[duq$Datetime <= '2017-08-31',]\n",
    "head(duq_train,10)\n",
    "duq_test <- duq[duq$Datetime >= '2017-09-01',]\n",
    "head(duq_test,10)"
   ]
  },
  {
   "cell_type": "code",
   "execution_count": null,
   "metadata": {
    "_uuid": "b2765f5cee70604020c7f56f04ecb91b3be91a98"
   },
   "outputs": [],
   "source": [
    "pitt_train <- pitt[pitt$datetime <= '2017-08-31',]\n",
    "pitt_test <- pitt[pitt$datetime >= '2017-09-01',]"
   ]
  },
  {
   "cell_type": "code",
   "execution_count": null,
   "metadata": {
    "_uuid": "88c40dccecd8e97a806fc58b8f4b4f45fc619e63"
   },
   "outputs": [],
   "source": [
    "#Point to note: Electricity consumption goes up when things get too cold OR too hot.\n",
    "library(forecast)\n",
    "#For shits and giggles, trying auto.arima\n",
    "power_ts <- ts(duq_train$DUQ_MW,frequency = 24)"
   ]
  },
  {
   "cell_type": "code",
   "execution_count": null,
   "metadata": {
    "_uuid": "18274b7f74c80aea80499a10a9955832ae1b6ff6"
   },
   "outputs": [],
   "source": [
    "#Use MSTS get all aspects of seasonality\n",
    "msts_power <- msts(duq_train$DUQ_MW, seasonal.periods = c(24,169,24*365.25), start = decimal_date(as.POSIXct(\"2012-10-01 00:00:00\")))"
   ]
  },
  {
   "cell_type": "code",
   "execution_count": null,
   "metadata": {
    "_uuid": "8d4f490e8398d13b3d2b4fc438e7b21d995913eb"
   },
   "outputs": [],
   "source": [
    "mean_baseline <- meanf(msts_power,h = 24*31)\n",
    "plot(mean_baseline)\n",
    "accuracy(mean_baseline,duq_test$DUQ_MW)"
   ]
  },
  {
   "cell_type": "code",
   "execution_count": null,
   "metadata": {
    "_uuid": "be92e6e549f5234ad5215c57cc8654cd851004b5"
   },
   "outputs": [],
   "source": [
    "arima_power <- forecast::auto.arima(msts_power)\n",
    "f_arima <- forecast(arima_power, h = 24*31)\n",
    "summary(arima_power)"
   ]
  },
  {
   "cell_type": "code",
   "execution_count": null,
   "metadata": {
    "_uuid": "2fea1f2dd22658d5d1226d01411944412c079676"
   },
   "outputs": [],
   "source": [
    "accuracy(f = f_arima,x = duq_test$DUQ_MW)"
   ]
  },
  {
   "cell_type": "code",
   "execution_count": null,
   "metadata": {
    "_uuid": "906498d69b8d136e9eee7a7a3ea3fa908b10da8d"
   },
   "outputs": [],
   "source": [
    "plot(forecast(msts_power, h = 24*31))"
   ]
  },
  {
   "cell_type": "code",
   "execution_count": null,
   "metadata": {
    "_uuid": "2062bd7a10bd4bb46089cbf58ab6d9ebd5e7c074"
   },
   "outputs": [],
   "source": [
    "accuracy(forecast(msts_power, 24*31), duq_test$DUQ_MW)\n",
    "#accuracy(rep(meanf(msts_power), 365), duq_test$DUQ_MW)"
   ]
  },
  {
   "cell_type": "code",
   "execution_count": null,
   "metadata": {
    "_uuid": "95c4366a05e95995368439338ac4ca5bcf86a490"
   },
   "outputs": [],
   "source": [
    "autoplot(msts_power) +geom_line(color = \"#00AFBB\") + ggtitle('Duquesne Power - Consumption, 2012-16')+\n",
    "    xlab('Date') + ylab('Consumption in MW')"
   ]
  },
  {
   "cell_type": "code",
   "execution_count": null,
   "metadata": {
    "_uuid": "4ef80b256185476e7994ddc25a8fa8b9bc4a4ba7"
   },
   "outputs": [],
   "source": [
    "tbats_power <- tbats(msts_power)\n",
    "f_tbats <- forecast(tbats_power, h = 24*31)\n",
    "#msts_power %>%\n",
    "#  tbats() -> fit2\n",
    "#fc2 <- forecast(fit2, h=24*365.25)\n",
    "#autoplot(fc2, include=24*365.25) +\n",
    "#  ylab(\"Power Consumption\") + xlab(\"Days\")\n",
    "#summary(tbats_power)"
   ]
  },
  {
   "cell_type": "code",
   "execution_count": null,
   "metadata": {
    "_uuid": "4d373a5515f5720c77bc77ee2b8de70619098de8"
   },
   "outputs": [],
   "source": [
    "autoplot(f_tbats) +ggtitle('Duquesne Power - Forecast, 2016-17')+\n",
    "    xlab('Date') + ylab('Consumption in MW')"
   ]
  },
  {
   "cell_type": "code",
   "execution_count": null,
   "metadata": {
    "_uuid": "b39e1f92398c086eae33cbc268a91ae89c6b4290"
   },
   "outputs": [],
   "source": [
    "accuracy(f_tbats,duq_test$DUQ_MW)"
   ]
  },
  {
   "cell_type": "code",
   "execution_count": null,
   "metadata": {
    "_uuid": "4d3e035d01a827cc35d16fd6e9fcb2cae1595c59"
   },
   "outputs": [],
   "source": [
    "#Let's try an STL model\n",
    "mstl_power <- mstl(msts_power)"
   ]
  },
  {
   "cell_type": "code",
   "execution_count": null,
   "metadata": {
    "_uuid": "8620a8149d9c9eadb4c10ebb5ab87fbf14d2644e"
   },
   "outputs": [],
   "source": [
    "autoplot(mstl_power) +geom_line(color = \"#00AFBB\") + ggtitle('Duquesne Power - Consumption, 2012-16')+\n",
    "    xlab('Date') + ylab('Consumption in MW')"
   ]
  },
  {
   "cell_type": "code",
   "execution_count": null,
   "metadata": {
    "_uuid": "ad6d293cddc0a313fd7908f351ae1eee8be2b3dd"
   },
   "outputs": [],
   "source": [
    "f_mstl <- stlf(msts_power, h = 24*31)\n",
    "autoplot(f_mstl) +geom_line(color = \"#00AFBB\") + ggtitle('Duquesne Power - Consumption, 2012-16')+\n",
    "    xlab('Date') + ylab('Consumption in MW')\n",
    "accuracy(f_mstl,duq_test$DUQ_MW)"
   ]
  },
  {
   "cell_type": "code",
   "execution_count": null,
   "metadata": {
    "_uuid": "730c941bb300d23a634186ce55e69aafc4928c11"
   },
   "outputs": [],
   "source": [
    "temp_power_train <- merge(duq_train, pitt_train, by.x = 'Datetime', by.y = 'datetime')\n",
    "head(temp_power_train,10)"
   ]
  },
  {
   "cell_type": "code",
   "execution_count": null,
   "metadata": {
    "_uuid": "dce086f3e17daf147c8576ba5f91f90cd5698f6a"
   },
   "outputs": [],
   "source": [
    "ggplot(data = temp_power_train, aes(x=Pittsburgh, y=DUQ_MW)) + geom_point(color = \"#00AFBB\") +\n",
    "    xlab(\"Temperature (degrees Kelvin)\") +\n",
    "    ylab(\"Demand (MW)\")"
   ]
  },
  {
   "cell_type": "code",
   "execution_count": null,
   "metadata": {
    "_uuid": "ab9f55dea9c6304997b8c9ed2833c6f2a4d53a70"
   },
   "outputs": [],
   "source": [
    "fourier_power <- auto.arima(msts_power, seasonal=FALSE, lambda=0,\n",
    "         xreg=fourier(msts_power, K=c(10,10,10)))\n",
    "\n",
    "f_fourier <-  forecast(fourier_power, xreg=fourier(msts_power, K=c(10,10,10), h=24*31))\n",
    "  autoplot(f_fourier, include=24*31) +\n",
    "    ylab(\"Power Consumption predicted\") + xlab(\"Time\")\n",
    "\n",
    "accuracy(f_fourier, duq_test$DUQ)"
   ]
  },
  {
   "cell_type": "code",
   "execution_count": null,
   "metadata": {
    "_uuid": "aedaa9cc7845ac652adb972c7f0fbed3e66a1e78"
   },
   "outputs": [],
   "source": [
    "cooling <- pmax(temp_power_train[,\"Pittsburgh\"], 285)\n",
    "fit <- auto.arima(temp_power_train[,\"DUQ_MW\"],\n",
    "         xreg = cbind(fourier(temp_power_train, c(10,10,10)),\n",
    "               heating=temp_power_train[,\"Pittsburgh\"],\n",
    "               cooling=cooling))\n",
    "f_fit <- forecast(fit, h = 24*31)\n",
    "autoplot(f_fit) +\n",
    "    ylab(\"Power Consumption predicted\") + xlab(\"Time\")\n",
    "accuracy(f_fit, duq_test$DUQ_MW)"
   ]
  }
 ],
 "metadata": {
  "kernelspec": {
   "display_name": "R",
   "language": "R",
   "name": "ir"
  },
  "language_info": {
   "codemirror_mode": "r",
   "file_extension": ".r",
   "mimetype": "text/x-r-source",
   "name": "R",
   "pygments_lexer": "r",
   "version": "3.4.4"
  }
 },
 "nbformat": 4,
 "nbformat_minor": 1
}
